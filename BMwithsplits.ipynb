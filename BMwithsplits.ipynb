{
 "cells": [
  {
   "cell_type": "code",
   "execution_count": 1,
   "metadata": {
    "collapsed": false
   },
   "outputs": [
    {
     "name": "stdout",
     "output_type": "stream",
     "text": [
      " Volume in drive C is OS\n",
      " Volume Serial Number is 0C52-665E\n",
      "\n",
      " Directory of C:\\Users\\lic\\Documents\\PythonScripts\\BostonMarathon\n",
      "\n",
      "03/02/2017  11:31 AM    <DIR>          .\n",
      "03/02/2017  11:31 AM    <DIR>          ..\n",
      "03/02/2017  10:07 AM    <DIR>          .ipynb_checkpoints\n",
      "03/02/2017  11:31 AM             6,387 BMwithsplits.ipynb\n",
      "03/02/2017  11:27 AM           165,452 bm_split2014.csv\n",
      "03/02/2017  10:06 AM            33,017 BostonMarathon.ipynb\n",
      "03/02/2017  09:59 AM    <DIR>          Data\n",
      "03/02/2017  09:59 AM                63 README.md\n",
      "               4 File(s)        204,919 bytes\n",
      "               4 Dir(s)  28,770,603,008 bytes free\n"
     ]
    }
   ],
   "source": [
    "!dir"
   ]
  },
  {
   "cell_type": "code",
   "execution_count": 2,
   "metadata": {
    "collapsed": true
   },
   "outputs": [],
   "source": [
    "import requests\n",
    "from bs4 import BeautifulSoup\n",
    "import os.path\n",
    "import pandas as pd\n",
    "import re\n",
    "import string\n",
    "BAAsite = 'http://registration.baa.org/'\n",
    "url_suffix = '/cf/Public/iframe_ResultsSearch.cfm?mode=results'\n",
    "columns=['bib','name','age','gender','city','state', 'country','ctz',\n",
    "         't5k','t10k','t15k', 't20k','half','t25k','t30k','t35k','t40k',\n",
    "         'pace','projt','offt','overcall','gdiv','div']\n",
    "\n",
    "#2014 ma\n",
    "#gender 0, 1: M, 2: F,"
   ]
  },
  {
   "cell_type": "code",
   "execution_count": 3,
   "metadata": {
    "collapsed": false
   },
   "outputs": [],
   "source": [
    "def get_with_year_lastname_gender(year,lastname,gender=0,start=1):\n",
    "    param = {'StoredProcParamsOn': 'yes',\n",
    "                 'LastName': lastname,\n",
    "                 'GenderID': gender,\n",
    "                 'VarTargetCount': 1000,\n",
    "                 'records':25,\n",
    "                 'start': start,\n",
    "                 \"RaceYearLowID\": str(year),\n",
    "                 'next': 'Next+25+Records'}\n",
    "    url=BAAsite+str(year)+url_suffix\n",
    "    r = requests.post(url, param)\n",
    "    return r\n",
    "\n",
    "def save_splitdata_tocsv(df_bm,year):\n",
    "    filename=''.join(['bm_split',str(year),'.csv'])\n",
    "    if os.path.isfile(filename):\n",
    "        with open(filename,'a') as f:\n",
    "            df_bm.to_csv(f,index = False,header=False,encoding='utf-8')\n",
    "    else:\n",
    "        df_bm.to_csv(filename,index = False,header=True,encoding='utf-8')\n",
    "        \n",
    "def bm_split_list(request_result):\n",
    "    df_bm=pd.DataFrame(columns=columns)\n",
    "    soup = BeautifulSoup(request_result.text,\"lxml\")\n",
    "    maintable=soup.find_all(name='tr', attrs={'class': 'tr_header'})\n",
    "    subtable = soup.find_all(name=\"table\", attrs={\"class\": \"table_infogrid\"})\n",
    "    num=len(maintable)\n",
    "    if num>0:\n",
    "        for i in range(num):\n",
    "            (bib,name,age,gender,city,state,country,ctz,_)=[t.text.strip() for t in maintable[i].findAll(\"td\")]\n",
    "            (t5k, t10k, t15k, t20k,half,t25k,t30k,t35k,t40k,pace,projt,offt,overcall,gdiv,div )= [t.text.strip() for t in subtable[i].findAll(\"td\")]\n",
    "            df_bm.loc[i]=[bib,name,age,gender,city,state,country,ctz,t5k, t10k, t15k, t20k,half,t25k,t30k,t35k,t40k,pace,projt,offt,overcall,gdiv,div]\n",
    "    return df_bm, num"
   ]
  },
  {
   "cell_type": "code",
   "execution_count": 4,
   "metadata": {
    "collapsed": false
   },
   "outputs": [
    {
     "data": {
      "text/plain": [
       "'abcdefghijklmnopqrstuvwxyz'"
      ]
     },
     "execution_count": 4,
     "metadata": {},
     "output_type": "execute_result"
    }
   ],
   "source": [
    "string.ascii_lowercase  #python 3? "
   ]
  },
  {
   "cell_type": "code",
   "execution_count": 7,
   "metadata": {
    "collapsed": false
   },
   "outputs": [],
   "source": [
    "def test(year=2014, lastname='ma'):\n",
    "    for gender in [1,2]:\n",
    "        for start in list(range(1,1000,25)):\n",
    "            #print('{},').format(start),\n",
    "            print(start),\n",
    "            requested=get_with_year_lastname_gender(year,lastname,gender,start)\n",
    "            df_bm,num=bm_split_list(requested)\n",
    "            if num==0: \n",
    "                break;\n",
    "            save_splitdata_tocsv(df_bm,year)\n",
    "                "
   ]
  },
  {
   "cell_type": "code",
   "execution_count": 8,
   "metadata": {
    "collapsed": false
   },
   "outputs": [
    {
     "name": "stdout",
     "output_type": "stream",
     "text": [
      "1\n",
      "26\n",
      "51\n",
      "76\n",
      "101\n",
      "126\n",
      "1\n",
      "26\n",
      "51\n",
      "76\n",
      "101\n"
     ]
    }
   ],
   "source": [
    "test(2014,'li')"
   ]
  },
  {
   "cell_type": "code",
   "execution_count": 9,
   "metadata": {
    "collapsed": false
   },
   "outputs": [
    {
     "name": "stdout",
     "output_type": "stream",
     "text": [
      " Volume in drive C is OS\n",
      " Volume Serial Number is 0C52-665E\n",
      "\n",
      " Directory of C:\\Users\\lic\\Documents\\PythonScripts\\BostonMarathon\n",
      "\n",
      "03/02/2017  11:33 AM    <DIR>          .\n",
      "03/02/2017  11:33 AM    <DIR>          ..\n",
      "03/02/2017  10:07 AM    <DIR>          .ipynb_checkpoints\n",
      "03/02/2017  11:33 AM             5,788 BMwithsplits.ipynb\n",
      "03/02/2017  11:32 AM           196,133 bm_split2014.csv\n",
      "03/02/2017  10:06 AM            33,017 BostonMarathon.ipynb\n",
      "03/02/2017  09:59 AM    <DIR>          Data\n",
      "03/02/2017  09:59 AM                63 README.md\n",
      "               4 File(s)        235,001 bytes\n",
      "               4 Dir(s)  28,769,288,192 bytes free\n"
     ]
    }
   ],
   "source": [
    "!dir"
   ]
  },
  {
   "cell_type": "code",
   "execution_count": null,
   "metadata": {
    "collapsed": true
   },
   "outputs": [],
   "source": [
    "!git add "
   ]
  }
 ],
 "metadata": {
  "kernelspec": {
   "display_name": "Python [default]",
   "language": "python",
   "name": "python3"
  },
  "language_info": {
   "codemirror_mode": {
    "name": "ipython",
    "version": 3
   },
   "file_extension": ".py",
   "mimetype": "text/x-python",
   "name": "python",
   "nbconvert_exporter": "python",
   "pygments_lexer": "ipython3",
   "version": "3.5.2"
  }
 },
 "nbformat": 4,
 "nbformat_minor": 1
}
